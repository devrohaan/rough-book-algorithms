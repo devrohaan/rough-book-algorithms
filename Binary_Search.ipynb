{
 "cells": [
  {
   "cell_type": "markdown",
   "metadata": {},
   "source": [
    "# Python program for implementation of Binary search\n",
    "Algorithm: Binary search\n",
    "\n",
    "- Best_case  : O(1) when element to be searched is present in the middle\n",
    "- worst_case : 0(logn) when the element is not present in the list\n",
    "- Avg_case   : O(logn)"
   ]
  },
  {
   "cell_type": "code",
   "execution_count": 3,
   "metadata": {},
   "outputs": [],
   "source": [
    "\n",
    "quickcounter = 0\n",
    "\n",
    "def binarySearch (arr, l, r, x):\n",
    "    global quickcounter\n",
    "    quickcounter += 1\n",
    "    print(\"Pass %x :\"%(quickcounter))\n",
    "    # Check base case\n",
    "    if r >= l:\n",
    " \n",
    "        mid = l + (r - l)//2 #***\n",
    "        print(arr[mid])\n",
    "        # If element is present at the middle itself\n",
    "        if arr[mid] == x:\n",
    "            return mid\n",
    "         \n",
    "        # If element is smaller than mid, then it \n",
    "        # can only be present in left subarray\n",
    "        elif arr[mid] > x:\n",
    "            \n",
    "            print(\"Searching in %s :\" %str(arr[l:mid]))\n",
    "            return binarySearch(arr, l, mid-1, x)\n",
    " \n",
    "        # Else the element can only be present \n",
    "        # in right subarray\n",
    "        else:\n",
    "            print(\"Searching in %s :\"%str(arr[mid+1:r+1]))\n",
    "            return binarySearch(arr, mid+1, r, x)\n",
    " \n",
    "    else:\n",
    "        # Element is not present in the array\n",
    "        return -1\n",
    " \n"
   ]
  },
  {
   "cell_type": "code",
   "execution_count": 4,
   "metadata": {},
   "outputs": [
    {
     "name": "stdout",
     "output_type": "stream",
     "text": [
      "Pass 1 :\n",
      "99\n",
      "Searching in [1, 5, 7, 23, 40, 56, 56, 76] :\n",
      "Pass 2 :\n",
      "23\n",
      "Searching in [40, 56, 56, 76] :\n",
      "Pass 3 :\n",
      "56\n",
      "Searching in [40] :\n",
      "Pass 4 :\n",
      "40\n",
      "Element is present at index 4\n"
     ]
    }
   ],
   "source": [
    "# Test array\n",
    "arr = [ 456,778,456,876,3456,23,646,897,56,342,534,76,99,56,40,7,1,5,]\n",
    "x = 40\n",
    "arr = sorted(arr)\n",
    "result = binarySearch(arr, 0, len(arr)-1, x)\n",
    " \n",
    "if result != -1:\n",
    "    print (\"Element is present at index %d\" % result)\n",
    "else:\n",
    "    print (\"Element is not present in array\")"
   ]
  }
 ],
 "metadata": {
  "kernelspec": {
   "display_name": "Python 3",
   "language": "python",
   "name": "python3"
  },
  "language_info": {
   "codemirror_mode": {
    "name": "ipython",
    "version": 3
   },
   "file_extension": ".py",
   "mimetype": "text/x-python",
   "name": "python",
   "nbconvert_exporter": "python",
   "pygments_lexer": "ipython3",
   "version": "3.6.4"
  }
 },
 "nbformat": 4,
 "nbformat_minor": 2
}
