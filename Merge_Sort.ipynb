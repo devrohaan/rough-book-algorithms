{
 "cells": [
  {
   "cell_type": "markdown",
   "metadata": {},
   "source": [
    "# Python program for implementation of Merge Sort\n",
    "\n",
    "Algorithm: Merge Sort\n",
    "\n",
    "- Worst_case/best/average : O(nlogn) when the element is not present in the list\n",
    "\n",
    "- Time complexity of Merge Sort is O(nLogn) in all 3 cases (worst, average and best) as merge sort always divides the array in two halves and take linear time to merge two halves.\n",
    "\n",
    "- Time Complexity: Sorting arrays on different machines. \n",
    "\n",
    "- Auxiliary Space: O(n)\n",
    "\n",
    "- Sorting In Place: No in a typical implementation in case of linked list O(1).\n",
    "         "
   ]
  },
  {
   "cell_type": "markdown",
   "metadata": {},
   "source": [
    "Merge Sort is a recursive algorithm and time complexity can be expressed as following recurrence relation.\n",
    "\n",
    "- T(n) = 2T(n/2) + \\Theta(n)\n",
    "\n",
    "Time complexity of Merge Sort is \\Theta (nLogn) in all 3 cases (worst, average and best) \n",
    "as merge sort always divides the array in two halves and take linear time to merge two halves."
   ]
  },
  {
   "cell_type": "code",
   "execution_count": 3,
   "metadata": {},
   "outputs": [
    {
     "name": "stdout",
     "output_type": "stream",
     "text": [
      "Given array is [12, 11, 13, 5, 6, 7]\n",
      "Pass: 1 First Half\tSecond Half\n",
      "[12, 11, 13] \t\t[5, 6, 7]\n",
      "Pass: 2 First Half\tSecond Half\n",
      "[12] \t\t[11, 13]\n",
      "Pass: 4 First Half\tSecond Half\n",
      "[11] \t\t[13]\n",
      "Merging :  [11, 13] \n",
      "Merging :  [11, 12, 13] \n",
      "Pass: 7 First Half\tSecond Half\n",
      "[5] \t\t[6, 7]\n",
      "Pass: 9 First Half\tSecond Half\n",
      "[6] \t\t[7]\n",
      "Merging :  [6, 7] \n",
      "Merging :  [5, 6, 7] \n",
      "Merging :  [5, 6, 7, 11, 12, 13] \n"
     ]
    }
   ],
   "source": [
    "def merge(arr, l ,m, r, temp):\n",
    "    \n",
    "    \n",
    "    for w in range(l,r+1):\n",
    "        #temp.append(arr[w])\n",
    "        temp[w] = arr[w]\n",
    "    i = l\n",
    "    j = m+1\n",
    "    k = l\n",
    "    while i<=m and j<=r:\n",
    "        if temp[i] <= temp[j]:\n",
    "            arr[k] = temp[i]\n",
    "            i += 1\n",
    "        else:\n",
    "            arr[k] = temp[j]\n",
    "            j += 1\n",
    "        k += 1\n",
    "    while i <= m:\n",
    "        arr[k] = temp[i]\n",
    "        k += 1\n",
    "        i += 1\n",
    "\t\n",
    "    print(\"Merging : \", arr[l:r+1], end=\" \")\n",
    "    print()\t\n",
    "\n",
    "\n",
    "quickcounter = 0\n",
    "\n",
    "def mergeSort(arr,l,r, temp):\n",
    "    global quickcounter\n",
    "    quickcounter += 1\n",
    "    if l < r:\n",
    "        m = (l+(r-1))//2\n",
    "        print(\"Pass: %d\" %quickcounter, \"First Half\\tSecond Half\")\n",
    "        print(arr[l:m+1], end=\" \")\n",
    "        print(end=\"\\t\\t\")\n",
    "        print(arr[m+1:r+1])\n",
    "        \n",
    "        mergeSort(arr, l, m, temp)\n",
    "        mergeSort(arr, m+1, r, temp)\n",
    "        merge(arr, l, m, r, temp)\n",
    "\n",
    "\n",
    "# Driver code to test above\n",
    "arr = [12, 11, 13, 5, 6, 7]\n",
    "n = len(arr)\n",
    "temp = [0 for _ in range(len(arr))]\n",
    "print (\"Given array is %s\" %str(arr))\n",
    "\n",
    "#print(arr[0:3]) #eliminates last -1 rule is valid \n",
    "mergeSort(arr,0,n-1, temp)"
   ]
  },
  {
   "cell_type": "code",
   "execution_count": null,
   "metadata": {},
   "outputs": [],
   "source": []
  }
 ],
 "metadata": {
  "kernelspec": {
   "display_name": "Python 3",
   "language": "python",
   "name": "python3"
  },
  "language_info": {
   "codemirror_mode": {
    "name": "ipython",
    "version": 3
   },
   "file_extension": ".py",
   "mimetype": "text/x-python",
   "name": "python",
   "nbconvert_exporter": "python",
   "pygments_lexer": "ipython3",
   "version": "3.6.4"
  }
 },
 "nbformat": 4,
 "nbformat_minor": 2
}
