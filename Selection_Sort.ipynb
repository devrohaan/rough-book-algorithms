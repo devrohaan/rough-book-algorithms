{
 "cells": [
  {
   "cell_type": "markdown",
   "metadata": {},
   "source": [
    "# Python program for implementation of Selection Sort\n",
    "\n",
    "Algorithm: Selection\n",
    "\n",
    "- Best_case  : O(n)^2 \n",
    "- worst_case : O(n)^2 \n",
    "- Avg_case   : O(n)^2 \n",
    "    \n",
    "- Auxiliary Space: O(1)\n",
    "- Sorting In Place: Yes,  it does not require extra space.\n"
   ]
  },
  {
   "cell_type": "code",
   "execution_count": 1,
   "metadata": {},
   "outputs": [
    {
     "name": "stdout",
     "output_type": "stream",
     "text": [
      "Pass 0: [9, 34, 25, 12, 22, 11, 64]\n",
      "Pass 1: [9, 11, 25, 12, 22, 34, 64]\n",
      "Pass 2: [9, 11, 12, 25, 22, 34, 64]\n",
      "Pass 3: [9, 11, 12, 22, 25, 34, 64]\n",
      "Pass 4: [9, 11, 12, 22, 25, 34, 64]\n",
      "Pass 5: [9, 11, 12, 22, 25, 34, 64]\n",
      "Pass 6: [9, 11, 12, 22, 25, 34, 64]\n",
      "Sorted Array: [9, 11, 12, 22, 25, 34, 64]\n",
      "total Comparisons:  21\n"
     ]
    }
   ],
   "source": [
    "def selection(A):\n",
    "    \n",
    "    comparison = 0\n",
    "    for i in range(len(A)):\n",
    "     \n",
    "    # Consider first element to be sorted \n",
    "\n",
    "        min_idx = i\n",
    "        for j in range(i+1, len(A)):\n",
    "            comparison+=1\n",
    "            if A[min_idx] > A[j]:\n",
    "                min_idx = j\n",
    "             \n",
    "    # Swap the found minimum element with \n",
    "    # the first element        \n",
    "        A[i], A[min_idx] = A[min_idx], A[i]\n",
    "        print(\"Pass %d: %s\" %(i,str(A)))\n",
    "        \n",
    "    print(\"Sorted Array: %s\" %str(A))\n",
    "    print(\"total Comparisons: \", comparison)\n",
    "    \n",
    "    \n",
    "arr = [64, 34, 25, 12, 22, 11, 9]  \n",
    "selection(arr)    "
   ]
  },
  {
   "cell_type": "code",
   "execution_count": 3,
   "metadata": {},
   "outputs": [
    {
     "name": "stdout",
     "output_type": "stream",
     "text": [
      "Pass 0: [9, 11, 12, 22, 25, 34, 64]\n",
      "Pass 1: [9, 11, 12, 22, 25, 34, 64]\n",
      "Pass 2: [9, 11, 12, 22, 25, 34, 64]\n",
      "Pass 3: [9, 11, 12, 22, 25, 34, 64]\n",
      "Pass 4: [9, 11, 12, 22, 25, 34, 64]\n",
      "Pass 5: [9, 11, 12, 22, 25, 34, 64]\n",
      "Pass 6: [9, 11, 12, 22, 25, 34, 64]\n",
      "Sorted Array: [9, 11, 12, 22, 25, 34, 64]\n",
      "total Comparisons:  21\n"
     ]
    }
   ],
   "source": [
    "### When array is sorted \n",
    "arr = [9, 11, 12, 22, 25, 34, 64]\n",
    "selection(arr) "
   ]
  }
 ],
 "metadata": {
  "kernelspec": {
   "display_name": "Python 3",
   "language": "python",
   "name": "python3"
  },
  "language_info": {
   "codemirror_mode": {
    "name": "ipython",
    "version": 3
   },
   "file_extension": ".py",
   "mimetype": "text/x-python",
   "name": "python",
   "nbconvert_exporter": "python",
   "pygments_lexer": "ipython3",
   "version": "3.6.4"
  }
 },
 "nbformat": 4,
 "nbformat_minor": 2
}
