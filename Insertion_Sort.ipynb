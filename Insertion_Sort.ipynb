{
 "cells": [
  {
   "cell_type": "markdown",
   "metadata": {},
   "source": [
    "# Python program for implementation of Insertion Sort\n",
    "Algorithm: Insertion sort\n",
    "- Best_case  : O(n) when already sored as the while loop never loops \n",
    "- worst_case : O(n)^2 when reverse sorted\n",
    "- Avg_case   : O(n)^2\n",
    "    \n",
    "- Auxiliary Space: O(1)\n",
    "\n",
    "- Sorting In Place: Yes,  it does not require extra space.\n"
   ]
  },
  {
   "cell_type": "code",
   "execution_count": 1,
   "metadata": {},
   "outputs": [
    {
     "name": "stdout",
     "output_type": "stream",
     "text": [
      "Key :  34\n",
      "Pass 1: [34, 64, 25, 12, 22, 11, 9]\n",
      "Key :  25\n",
      "Pass 2: [25, 34, 64, 12, 22, 11, 9]\n",
      "Key :  12\n",
      "Pass 3: [12, 25, 34, 64, 22, 11, 9]\n",
      "Key :  22\n",
      "Pass 4: [12, 22, 25, 34, 64, 11, 9]\n",
      "Key :  11\n",
      "Pass 5: [11, 12, 22, 25, 34, 64, 9]\n",
      "Key :  9\n",
      "Pass 6: [9, 11, 12, 22, 25, 34, 64]\n"
     ]
    }
   ],
   "source": [
    "def insertionSort(arr):\n",
    " \n",
    "    # Traverse through 1 to len(arr)\n",
    "    for i in range(1, len(arr)):\n",
    " \n",
    "        key = arr[i]\n",
    "        print(\"Key : \",key)\n",
    "        # Move elements of arr[0..i-1], that are\n",
    "        # greater than key, to one position ahead\n",
    "        # of their current position\n",
    "        j = i-1\n",
    "        while j >=0 and key < arr[j] :\n",
    "                arr[j+1] = arr[j]\n",
    "                j -= 1\n",
    "        arr[j+1] = key\n",
    "        print(\"Pass %d: %s\" %(i,str(arr)))\n",
    "        \n",
    "arr = [64, 34, 25, 12, 22, 11, 9]  \n",
    "insertionSort(arr)     \n",
    "        "
   ]
  },
  {
   "cell_type": "code",
   "execution_count": 2,
   "metadata": {},
   "outputs": [
    {
     "name": "stdout",
     "output_type": "stream",
     "text": [
      "Key :  11\n",
      "Pass 1: [9, 11, 12, 22, 25, 34, 64]\n",
      "Key :  12\n",
      "Pass 2: [9, 11, 12, 22, 25, 34, 64]\n",
      "Key :  22\n",
      "Pass 3: [9, 11, 12, 22, 25, 34, 64]\n",
      "Key :  25\n",
      "Pass 4: [9, 11, 12, 22, 25, 34, 64]\n",
      "Key :  34\n",
      "Pass 5: [9, 11, 12, 22, 25, 34, 64]\n",
      "Key :  64\n",
      "Pass 6: [9, 11, 12, 22, 25, 34, 64]\n"
     ]
    }
   ],
   "source": [
    "### when array is already sorted.\n",
    "arr = [9, 11, 12, 22, 25, 34, 64]\n",
    "insertionSort(arr)    "
   ]
  },
  {
   "cell_type": "code",
   "execution_count": null,
   "metadata": {},
   "outputs": [],
   "source": []
  }
 ],
 "metadata": {
  "kernelspec": {
   "display_name": "Python 3",
   "language": "python",
   "name": "python3"
  },
  "language_info": {
   "codemirror_mode": {
    "name": "ipython",
    "version": 3
   },
   "file_extension": ".py",
   "mimetype": "text/x-python",
   "name": "python",
   "nbconvert_exporter": "python",
   "pygments_lexer": "ipython3",
   "version": "3.6.4"
  }
 },
 "nbformat": 4,
 "nbformat_minor": 2
}
