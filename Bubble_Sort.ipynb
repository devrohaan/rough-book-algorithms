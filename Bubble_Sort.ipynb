{
 "cells": [
  {
   "cell_type": "markdown",
   "metadata": {},
   "source": [
    "# Python program for implementation of Bubble Sort\n",
    "Algorithm: Bubble sort\n",
    "\n",
    "- Best_case  : O(n) when array is alredy sorted (if the code is optimizied SOL:2)\n",
    "- worst_case : O(n)^2 when array is reverse sorted\n",
    "- Avg_case   : O(n)^2\n",
    "    \n",
    "- Auxiliary Space: O(1)\n",
    "- Sorting In Place: Yes,  it does not require extra space.\n",
    "\n"
   ]
  },
  {
   "cell_type": "code",
   "execution_count": 2,
   "metadata": {},
   "outputs": [],
   "source": [
    "#!/usr/bin/env python3\n",
    "# -*- coding: utf-8 -*-\n",
    "\"\"\"\n",
    "Created on Sun Jul  8 21:46:25 2018\n",
    "\n",
    "@author: Rohan\n",
    "\"\"\"\n",
    "import time\n"
   ]
  },
  {
   "cell_type": "code",
   "execution_count": 3,
   "metadata": {},
   "outputs": [],
   "source": [
    "def bubbleSort(arr):\n",
    "    \n",
    "    starttime = time.time()\n",
    "    n = len(arr)\n",
    "    \n",
    "    for i in range(n):\n",
    " \n",
    "        # Last i elements are already in place\n",
    "        for j in range(0, n-i-1):\n",
    " \n",
    "            # traverse the array from 0 to n-i-1\n",
    "            # Swap if the element found is greater\n",
    "            # than the next element\n",
    "            if arr[j] > arr[j+1] :\n",
    "                arr[j], arr[j+1] = arr[j+1], arr[j]\n",
    "    \n",
    "        print(\"Pass %x :\"%(i+1), str(arr))\n",
    "    \n",
    "    print(\"Sorted Array: %s\" %str(arr))\n",
    "    print(\"Executed in: \" ,(time.time() - starttime), \" seconds\")"
   ]
  },
  {
   "cell_type": "code",
   "execution_count": 6,
   "metadata": {},
   "outputs": [
    {
     "name": "stdout",
     "output_type": "stream",
     "text": [
      "Pass 1 : [34, 25, 12, 22, 11, 9, 64]\n",
      "Pass 2 : [25, 12, 22, 11, 9, 34, 64]\n",
      "Pass 3 : [12, 22, 11, 9, 25, 34, 64]\n",
      "Pass 4 : [12, 11, 9, 22, 25, 34, 64]\n",
      "Pass 5 : [11, 9, 12, 22, 25, 34, 64]\n",
      "Pass 6 : [9, 11, 12, 22, 25, 34, 64]\n",
      "Pass 7 : [9, 11, 12, 22, 25, 34, 64]\n",
      "Sorted Array: [9, 11, 12, 22, 25, 34, 64]\n",
      "Executed in:  0.0008730888366699219  seconds\n"
     ]
    }
   ],
   "source": [
    "arr = [64, 34, 25, 12, 22, 11, 9]\n",
    "bubbleSort(arr)"
   ]
  },
  {
   "cell_type": "code",
   "execution_count": 7,
   "metadata": {},
   "outputs": [
    {
     "name": "stdout",
     "output_type": "stream",
     "text": [
      "Pass 1 : [8, 7, 6, 5, 4, 3, 2, 1, 9]\n",
      "Pass 2 : [7, 6, 5, 4, 3, 2, 1, 8, 9]\n",
      "Pass 3 : [6, 5, 4, 3, 2, 1, 7, 8, 9]\n",
      "Pass 4 : [5, 4, 3, 2, 1, 6, 7, 8, 9]\n",
      "Pass 5 : [4, 3, 2, 1, 5, 6, 7, 8, 9]\n",
      "Pass 6 : [3, 2, 1, 4, 5, 6, 7, 8, 9]\n",
      "Pass 7 : [2, 1, 3, 4, 5, 6, 7, 8, 9]\n",
      "Pass 8 : [1, 2, 3, 4, 5, 6, 7, 8, 9]\n",
      "Pass 9 : [1, 2, 3, 4, 5, 6, 7, 8, 9]\n",
      "Sorted Array: [1, 2, 3, 4, 5, 6, 7, 8, 9]\n",
      "Executed in:  0.0007381439208984375  seconds\n"
     ]
    }
   ],
   "source": [
    "arr = [9,8,7,6,5,4,3,2,1]\n",
    "bubbleSort(arr)"
   ]
  },
  {
   "cell_type": "markdown",
   "metadata": {},
   "source": [
    "###  The above function always runs O(n^2) time even if the array is sorted. It can be optimized by stopping the algorithm if inner loop didn’t cause any swap.\n"
   ]
  },
  {
   "cell_type": "code",
   "execution_count": 8,
   "metadata": {},
   "outputs": [],
   "source": [
    "def bubbleSortOpti(arr):\n",
    "    \n",
    "    starttime = time.time()\n",
    "    n = len(arr)\n",
    "    for i in range(n):\n",
    "        \n",
    "        swapped = False\n",
    " \n",
    "        for j in range(0, n-i-1):\n",
    "\n",
    "            if arr[j] > arr[j+1] :\n",
    "                arr[j], arr[j+1] = arr[j+1], arr[j]\n",
    "                swapped = True\n",
    " \n",
    "        # IF no two elements were swapped\n",
    "        # by inner loop, then break\n",
    "        if swapped == False:\n",
    "            break\n",
    "        print(\"Pass %d: %s\" %(i,str(arr)))\n",
    "        \n",
    "    print(\"Sorted Array: %s\" %str(arr))\n",
    "    print(\"Executed in: \" ,(time.time() - starttime), \" seconds\")\n",
    "    "
   ]
  },
  {
   "cell_type": "code",
   "execution_count": 9,
   "metadata": {},
   "outputs": [
    {
     "name": "stdout",
     "output_type": "stream",
     "text": [
      "Pass 0: [34, 25, 12, 22, 11, 9, 64]\n",
      "Pass 1: [25, 12, 22, 11, 9, 34, 64]\n",
      "Pass 2: [12, 22, 11, 9, 25, 34, 64]\n",
      "Pass 3: [12, 11, 9, 22, 25, 34, 64]\n",
      "Pass 4: [11, 9, 12, 22, 25, 34, 64]\n",
      "Pass 5: [9, 11, 12, 22, 25, 34, 64]\n",
      "Sorted Array: [9, 11, 12, 22, 25, 34, 64]\n",
      "Executed in:  0.0003821849822998047  seconds\n"
     ]
    }
   ],
   "source": [
    "arr = [64, 34, 25, 12, 22, 11, 9]\n",
    "bubbleSortOpti(arr)   "
   ]
  },
  {
   "cell_type": "code",
   "execution_count": 12,
   "metadata": {},
   "outputs": [
    {
     "name": "stdout",
     "output_type": "stream",
     "text": [
      "Sorted Array: [9, 11, 12, 22, 25, 34, 64]\n",
      "Executed in:  0.00022292137145996094  seconds\n"
     ]
    }
   ],
   "source": [
    "### When array is already sorted\n",
    "arr = [9, 11, 12, 22, 25, 34, 64]\n",
    "bubbleSortOpti(arr)  "
   ]
  }
 ],
 "metadata": {
  "kernelspec": {
   "display_name": "Python 3",
   "language": "python",
   "name": "python3"
  },
  "language_info": {
   "codemirror_mode": {
    "name": "ipython",
    "version": 3
   },
   "file_extension": ".py",
   "mimetype": "text/x-python",
   "name": "python",
   "nbconvert_exporter": "python",
   "pygments_lexer": "ipython3",
   "version": "3.6.4"
  }
 },
 "nbformat": 4,
 "nbformat_minor": 2
}
