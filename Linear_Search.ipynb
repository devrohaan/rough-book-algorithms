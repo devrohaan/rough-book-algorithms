{
 "cells": [
  {
   "cell_type": "markdown",
   "metadata": {},
   "source": [
    "# Python program for implementation of Linear Search\n",
    "Algorithm: Linear Search\n",
    "\n",
    "- Best_case  : O(1) when element to be searched is present in the first location.\n",
    "- worst_case : O(n) when the element is not present in the list or present at the end.\n",
    "- Avg_case   : O(n)\n"
   ]
  },
  {
   "cell_type": "code",
   "execution_count": 7,
   "metadata": {},
   "outputs": [
    {
     "name": "stdout",
     "output_type": "stream",
     "text": [
      "100 found at position 56\n"
     ]
    }
   ],
   "source": [
    "arr = [w for w in range(44,109)]\n",
    "x = 100 # element to search\n",
    "\n",
    "for i,w in enumerate(arr):\n",
    "    \n",
    "    if w == x:\n",
    "        print(w, \"found at position %i\" %i)\n",
    "        break\n",
    "else:\n",
    "    print(\"element not found\")"
   ]
  },
  {
   "cell_type": "code",
   "execution_count": null,
   "metadata": {},
   "outputs": [],
   "source": []
  }
 ],
 "metadata": {
  "kernelspec": {
   "display_name": "Python 3",
   "language": "python",
   "name": "python3"
  },
  "language_info": {
   "codemirror_mode": {
    "name": "ipython",
    "version": 3
   },
   "file_extension": ".py",
   "mimetype": "text/x-python",
   "name": "python",
   "nbconvert_exporter": "python",
   "pygments_lexer": "ipython3",
   "version": "3.6.4"
  }
 },
 "nbformat": 4,
 "nbformat_minor": 2
}
